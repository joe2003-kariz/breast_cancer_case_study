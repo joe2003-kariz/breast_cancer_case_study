{
 "cells": [
  {
   "cell_type": "markdown",
   "id": "29f8ca62-b4db-4830-bc31-5571945c2b20",
   "metadata": {},
   "source": [
    "## Step 5: Evaluation and Error Analysis\n",
    "\n",
    "This notebook explores model evaluation beyond accuracy by analyzing where the model makes mistakes. We'll inspect false positives and false negatives, explore patterns in misclassifications, and suggest ways to improve performance."
   ]
  },
  {
   "cell_type": "code",
   "execution_count": 2,
   "id": "9d96bdc7-2fd6-4b8b-bff1-58bae42b54f8",
   "metadata": {},
   "outputs": [],
   "source": [
    "import pandas as pd\n",
    "import numpy as np\n",
    "import matplotlib.pyplot as plt\n",
    "import seaborn as sns\n",
    "\n",
    "from sklearn.model_selection import train_test_split\n",
    "from sklearn.preprocessing import StandardScaler\n",
    "from sklearn.ensemble import RandomForestClassifier\n",
    "from sklearn.metrics import confusion_matrix, classification_report\n",
    "\n",
    "sns.set(style='whitegrid')\n",
    "%matplotlib inline"
   ]
  },
  {
   "cell_type": "code",
   "execution_count": 3,
   "id": "cc3b9dd3-0680-41cb-b922-15588f2d0657",
   "metadata": {},
   "outputs": [],
   "source": [
    "df = pd.read_csv(\"Data for Task 1.csv\")\n",
    "df.drop(columns=[\"id\", \"Unnamed: 32\"], inplace=True, errors=\"ignore\")\n",
    "df[\"diagnosis\"] = df[\"diagnosis\"].map({\"M\": 1, \"B\": 0})\n",
    "\n",
    "X = df.drop(\"diagnosis\", axis=1)\n",
    "y = df[\"diagnosis\"]\n",
    "\n",
    "scaler = StandardScaler()\n",
    "X_scaled = scaler.fit_transform(X)\n",
    "\n",
    "X_train, X_test, y_train, y_test = train_test_split(\n",
    "    X_scaled, y, test_size=0.2, stratify=y, random_state=42\n",
    ")\n",
    "\n",
    "X_test_df = pd.DataFrame(X_test, columns=X.columns)"
   ]
  },
  {
   "cell_type": "code",
   "execution_count": 4,
   "id": "ba680692-606c-4c07-947c-99eb615581c2",
   "metadata": {},
   "outputs": [],
   "source": [
    "model = RandomForestClassifier(random_state=42)\n",
    "model.fit(X_train, y_train)\n",
    "y_pred = model.predict(X_test)\n",
    "y_probs = model.predict_proba(X_test)[:, 1]  # Probability of class 1 (malignant)\n",
    "# Predict probabilities instead of hard class labels\n",
    "y_probs = model.predict_proba(X_test)[:, 1]\n",
    "# Set a lower threshold to reduce false negatives\n",
    "threshold = 0.45  # try 0.4, 0.35, etc. to experiment\n",
    "y_pred_adj = (y_probs >= threshold).astype(int)"
   ]
  },
  {
   "cell_type": "code",
   "execution_count": 5,
   "id": "220615c3-0c1e-43df-8839-529383862145",
   "metadata": {},
   "outputs": [
    {
     "data": {
      "image/png": "[encoded data removed]",
      "text/plain": [
       "<Figure size 640x480 with 2 Axes>"
      ]
     },
     "metadata": {},
     "output_type": "display_data"
    },
    {
     "name": "stdout",
     "output_type": "stream",
     "text": [
      "              precision    recall  f1-score   support\n",
      "\n",
      "           0       0.96      0.99      0.97        72\n",
      "           1       0.97      0.93      0.95        42\n",
      "\n",
      "    accuracy                           0.96       114\n",
      "   macro avg       0.97      0.96      0.96       114\n",
      "weighted avg       0.97      0.96      0.96       114\n",
      "\n"
     ]
    }
   ],
   "source": [
    "# Confusion matrix with adjusted threshold\n",
    "cm_adj = confusion_matrix(y_test, y_pred_adj)\n",
    "sns.heatmap(cm_adj, annot=True, fmt='d', cmap='Oranges')\n",
    "plt.xlabel('Predicted')\n",
    "plt.ylabel('Actual')\n",
    "plt.title(f'Confusion Matrix (Threshold = {threshold})')\n",
    "plt.show()\n",
    "\n",
    "# Performance report with adjusted threshold\n",
    "print(classification_report(y_test, y_pred_adj))\n"
   ]
  },
  {
   "cell_type": "code",
   "execution_count": 6,
   "id": "8e6b93a3-47d9-4b1c-9985-81557673fac3",
   "metadata": {},
   "outputs": [],
   "source": [
    "results_df = X_test_df.copy()\n",
    "results_df[\"Actual\"] = y_test.values\n",
    "results_df[\"Predicted\"] = y_pred\n",
    "results_df[\"Correct\"] = results_df[\"Actual\"] == results_df[\"Predicted\"]"
   ]
  },
  {
   "cell_type": "code",
   "execution_count": 7,
   "id": "c013c01b-bfd2-48a0-aed9-474627d364db",
   "metadata": {},
   "outputs": [
    {
     "name": "stdout",
     "output_type": "stream",
     "text": [
      "False Positives: 0\n"
     ]
    },
    {
     "data": {
      "text/html": [
       "<div>\n",
       "<style scoped>\n",
       "    .dataframe tbody tr th:only-of-type {\n",
       "        vertical-align: middle;\n",
       "    }\n",
       "\n",
       "    .dataframe tbody tr th {\n",
       "        vertical-align: top;\n",
       "    }\n",
       "\n",
       "    .dataframe thead th {\n",
       "        text-align: right;\n",
       "    }\n",
       "</style>\n",
       "<table border=\"1\" class=\"dataframe\">\n",
       "  <thead>\n",
       "    <tr style=\"text-align: right;\">\n",
       "      <th></th>\n",
       "      <th>radius_mean</th>\n",
       "      <th>texture_mean</th>\n",
       "      <th>perimeter_mean</th>\n",
       "      <th>area_mean</th>\n",
       "      <th>smoothness_mean</th>\n",
       "      <th>compactness_mean</th>\n",
       "      <th>concavity_mean</th>\n",
       "      <th>concave points_mean</th>\n",
       "      <th>symmetry_mean</th>\n",
       "      <th>fractal_dimension_mean</th>\n",
       "      <th>...</th>\n",
       "      <th>area_worst</th>\n",
       "      <th>smoothness_worst</th>\n",
       "      <th>compactness_worst</th>\n",
       "      <th>concavity_worst</th>\n",
       "      <th>concave points_worst</th>\n",
       "      <th>symmetry_worst</th>\n",
       "      <th>fractal_dimension_worst</th>\n",
       "      <th>Actual</th>\n",
       "      <th>Predicted</th>\n",
       "      <th>Correct</th>\n",
       "    </tr>\n",
       "  </thead>\n",
       "  <tbody>\n",
       "  </tbody>\n",
       "</table>\n",
       "<p>0 rows × 33 columns</p>\n",
       "</div>"
      ],
      "text/plain": [
       "Empty DataFrame\n",
       "Columns: [radius_mean, texture_mean, perimeter_mean, area_mean, smoothness_mean, compactness_mean, concavity_mean, concave points_mean, symmetry_mean, fractal_dimension_mean, radius_se, texture_se, perimeter_se, area_se, smoothness_se, compactness_se, concavity_se, concave points_se, symmetry_se, fractal_dimension_se, radius_worst, texture_worst, perimeter_worst, area_worst, smoothness_worst, compactness_worst, concavity_worst, concave points_worst, symmetry_worst, fractal_dimension_worst, Actual, Predicted, Correct]\n",
       "Index: []\n",
       "\n",
       "[0 rows x 33 columns]"
      ]
     },
     "execution_count": 7,
     "metadata": {},
     "output_type": "execute_result"
    }
   ],
   "source": [
    "false_positives = results_df[(results_df[\"Actual\"] == 0) & (results_df[\"Predicted\"] == 1)]\n",
    "print(f\"False Positives: {len(false_positives)}\")\n",
    "false_positives.head()"
   ]
  },
  {
   "cell_type": "code",
   "execution_count": 8,
   "id": "22452d38-f7a6-41a4-bbc8-f85e312e335c",
   "metadata": {},
   "outputs": [
    {
     "name": "stdout",
     "output_type": "stream",
     "text": [
      "Index: 16, Prob(Malignant): 0.100, Actual: 1, Predicted: 0\n",
      "Index: 24, Prob(Malignant): 0.270, Actual: 1, Predicted: 0\n",
      "Index: 42, Prob(Malignant): 0.190, Actual: 1, Predicted: 0\n",
      "False Negatives: 3\n"
     ]
    },
    {
     "data": {
      "text/html": [
       "<div>\n",
       "<style scoped>\n",
       "    .dataframe tbody tr th:only-of-type {\n",
       "        vertical-align: middle;\n",
       "    }\n",
       "\n",
       "    .dataframe tbody tr th {\n",
       "        vertical-align: top;\n",
       "    }\n",
       "\n",
       "    .dataframe thead th {\n",
       "        text-align: right;\n",
       "    }\n",
       "</style>\n",
       "<table border=\"1\" class=\"dataframe\">\n",
       "  <thead>\n",
       "    <tr style=\"text-align: right;\">\n",
       "      <th></th>\n",
       "      <th>radius_mean</th>\n",
       "      <th>texture_mean</th>\n",
       "      <th>perimeter_mean</th>\n",
       "      <th>area_mean</th>\n",
       "      <th>smoothness_mean</th>\n",
       "      <th>compactness_mean</th>\n",
       "      <th>concavity_mean</th>\n",
       "      <th>concave points_mean</th>\n",
       "      <th>symmetry_mean</th>\n",
       "      <th>fractal_dimension_mean</th>\n",
       "      <th>...</th>\n",
       "      <th>area_worst</th>\n",
       "      <th>smoothness_worst</th>\n",
       "      <th>compactness_worst</th>\n",
       "      <th>concavity_worst</th>\n",
       "      <th>concave points_worst</th>\n",
       "      <th>symmetry_worst</th>\n",
       "      <th>fractal_dimension_worst</th>\n",
       "      <th>Actual</th>\n",
       "      <th>Predicted</th>\n",
       "      <th>Correct</th>\n",
       "    </tr>\n",
       "  </thead>\n",
       "  <tbody>\n",
       "    <tr>\n",
       "      <th>16</th>\n",
       "      <td>-0.092956</td>\n",
       "      <td>-0.814392</td>\n",
       "      <td>-0.063393</td>\n",
       "      <td>-0.201331</td>\n",
       "      <td>0.308838</td>\n",
       "      <td>0.448373</td>\n",
       "      <td>-0.136966</td>\n",
       "      <td>0.045677</td>\n",
       "      <td>-0.546249</td>\n",
       "      <td>0.405774</td>\n",
       "      <td>...</td>\n",
       "      <td>-0.119860</td>\n",
       "      <td>0.382749</td>\n",
       "      <td>0.635726</td>\n",
       "      <td>0.027401</td>\n",
       "      <td>0.360776</td>\n",
       "      <td>-0.504352</td>\n",
       "      <td>1.055903</td>\n",
       "      <td>1</td>\n",
       "      <td>0</td>\n",
       "      <td>False</td>\n",
       "    </tr>\n",
       "    <tr>\n",
       "      <th>24</th>\n",
       "      <td>0.100174</td>\n",
       "      <td>0.505055</td>\n",
       "      <td>0.093953</td>\n",
       "      <td>-0.019024</td>\n",
       "      <td>-0.136658</td>\n",
       "      <td>-0.092312</td>\n",
       "      <td>0.396746</td>\n",
       "      <td>0.011887</td>\n",
       "      <td>0.961590</td>\n",
       "      <td>-0.912598</td>\n",
       "      <td>...</td>\n",
       "      <td>-0.126013</td>\n",
       "      <td>-0.077528</td>\n",
       "      <td>-0.360469</td>\n",
       "      <td>0.300860</td>\n",
       "      <td>0.120195</td>\n",
       "      <td>0.192911</td>\n",
       "      <td>-0.858159</td>\n",
       "      <td>1</td>\n",
       "      <td>0</td>\n",
       "      <td>False</td>\n",
       "    </tr>\n",
       "    <tr>\n",
       "      <th>42</th>\n",
       "      <td>0.134256</td>\n",
       "      <td>0.930909</td>\n",
       "      <td>0.082420</td>\n",
       "      <td>0.027903</td>\n",
       "      <td>-0.678938</td>\n",
       "      <td>-0.719796</td>\n",
       "      <td>-0.061511</td>\n",
       "      <td>0.097781</td>\n",
       "      <td>-0.674032</td>\n",
       "      <td>-1.224471</td>\n",
       "      <td>...</td>\n",
       "      <td>-0.215139</td>\n",
       "      <td>-0.051226</td>\n",
       "      <td>-0.611744</td>\n",
       "      <td>-0.022493</td>\n",
       "      <td>0.324232</td>\n",
       "      <td>-0.685544</td>\n",
       "      <td>-0.863701</td>\n",
       "      <td>1</td>\n",
       "      <td>0</td>\n",
       "      <td>False</td>\n",
       "    </tr>\n",
       "  </tbody>\n",
       "</table>\n",
       "<p>3 rows × 33 columns</p>\n",
       "</div>"
      ],
      "text/plain": [
       "    radius_mean  texture_mean  perimeter_mean  area_mean  smoothness_mean  \\\n",
       "16    -0.092956     -0.814392       -0.063393  -0.201331         0.308838   \n",
       "24     0.100174      0.505055        0.093953  -0.019024        -0.136658   \n",
       "42     0.134256      0.930909        0.082420   0.027903        -0.678938   \n",
       "\n",
       "    compactness_mean  concavity_mean  concave points_mean  symmetry_mean  \\\n",
       "16          0.448373       -0.136966             0.045677      -0.546249   \n",
       "24         -0.092312        0.396746             0.011887       0.961590   \n",
       "42         -0.719796       -0.061511             0.097781      -0.674032   \n",
       "\n",
       "    fractal_dimension_mean  ...  area_worst  smoothness_worst  \\\n",
       "16                0.405774  ...   -0.119860          0.382749   \n",
       "24               -0.912598  ...   -0.126013         -0.077528   \n",
       "42               -1.224471  ...   -0.215139         -0.051226   \n",
       "\n",
       "    compactness_worst  concavity_worst  concave points_worst  symmetry_worst  \\\n",
       "16           0.635726         0.027401              0.360776       -0.504352   \n",
       "24          -0.360469         0.300860              0.120195        0.192911   \n",
       "42          -0.611744        -0.022493              0.324232       -0.685544   \n",
       "\n",
       "    fractal_dimension_worst  Actual  Predicted  Correct  \n",
       "16                 1.055903       1          0    False  \n",
       "24                -0.858159       1          0    False  \n",
       "42                -0.863701       1          0    False  \n",
       "\n",
       "[3 rows x 33 columns]"
      ]
     },
     "execution_count": 8,
     "metadata": {},
     "output_type": "execute_result"
    }
   ],
   "source": [
    "false_negatives = results_df[(results_df[\"Actual\"] == 1) & (results_df[\"Predicted\"] == 0)]\n",
    "# See how confident the model was about each false negative\n",
    "false_negatives_indices = np.where((y_test.values == 1) & (y_pred == 0))[0]\n",
    "\n",
    "for i in false_negatives_indices:\n",
    "    print(f\"Index: {i}, Prob(Malignant): {y_probs[i]:.3f}, Actual: {y_test.values[i]}, Predicted: {y_pred[i]}\")\n",
    "print(f\"False Negatives: {len(false_negatives)}\")\n",
    "false_negatives.head()"
   ]
  },
  {
   "cell_type": "code",
   "execution_count": 9,
   "id": "2a3a7bbc-40eb-454b-82c5-9f39b01a802a",
   "metadata": {},
   "outputs": [
    {
     "data": {
      "image/png": "[encoded data removed]",
      "text/plain": [
       "<Figure size 640x480 with 1 Axes>"
      ]
     },
     "metadata": {},
     "output_type": "display_data"
    }
   ],
   "source": [
    "feature = \"radius_mean\"\n",
    "sns.histplot(data=results_df, x=feature, hue=\"Correct\", kde=True)\n",
    "plt.title(f\"Distribution of {feature} in Correct vs Incorrect Predictions\")\n",
    "plt.show()"
   ]
  },
  {
   "cell_type": "markdown",
   "id": "7e354026-a3ae-45b0-af93-978e33baa617",
   "metadata": {},
   "source": [
    "## Suggestions for Improvement\n",
    "\n",
    "- Investigate more features involved in misclassifications  \n",
    "- Consider feature engineering or dimensionality reduction  \n",
    "- Evaluate model calibration (e.g., prediction confidence thresholds)  \n",
    "- Try ensemble or hybrid models to reduce false negatives  \n",
    "- Collect more diverse training data for better generalization  \n"
   ]
  }
 ],
 "metadata": {
  "kernelspec": {
   "display_name": "Python [conda env:base] *",
   "language": "python",
   "name": "conda-base-py"
  },
  "language_info": {
   "codemirror_mode": {
    "name": "ipython",
    "version": 3
   },
   "file_extension": ".py",
   "mimetype": "text/x-python",
   "name": "python",
   "nbconvert_exporter": "python",
   "pygments_lexer": "ipython3",
   "version": "3.12.7"
  }
 },
 "nbformat": 4,
 "nbformat_minor": 5
}
